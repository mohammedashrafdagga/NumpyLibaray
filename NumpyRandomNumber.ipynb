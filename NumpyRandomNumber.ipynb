{
 "cells": [
  {
   "cell_type": "code",
   "execution_count": 1,
   "metadata": {},
   "outputs": [],
   "source": [
    "# Random number in Numby"
   ]
  },
  {
   "cell_type": "code",
   "execution_count": 2,
   "metadata": {},
   "outputs": [],
   "source": [
    "# importing libaray\n",
    "import numpy as np "
   ]
  },
  {
   "cell_type": "markdown",
   "metadata": {},
   "source": [
    "* Generate Random Number\n",
    "* NumPy offers the random module to work with random numbers."
   ]
  },
  {
   "cell_type": "code",
   "execution_count": 4,
   "metadata": {},
   "outputs": [
    {
     "data": {
      "text/plain": [
       "6"
      ]
     },
     "execution_count": 4,
     "metadata": {},
     "output_type": "execute_result"
    }
   ],
   "source": [
    "# Generate a random integer from 0 to 100:\n",
    "# return random number from zero  to 100 (but not included).\n",
    "randn = np.random.randint(100)\n",
    "\n",
    "# print random number\n",
    "randn"
   ]
  },
  {
   "cell_type": "code",
   "execution_count": 7,
   "metadata": {},
   "outputs": [
    {
     "data": {
      "text/plain": [
       "0.1653950623532675"
      ]
     },
     "execution_count": 7,
     "metadata": {},
     "output_type": "execute_result"
    }
   ],
   "source": [
    "# Generate a random float from zero to 100.\n",
    "# float number must be from 0 to 1 (not input pramter in function rand)\n",
    "# return float random number from zero to 100(but not included).\n",
    "randf = np.random.rand()\n",
    "\n",
    "randf"
   ]
  },
  {
   "cell_type": "markdown",
   "metadata": {},
   "source": [
    "### - Generate Random Array\n"
   ]
  },
  {
   "cell_type": "code",
   "execution_count": 8,
   "metadata": {},
   "outputs": [
    {
     "data": {
      "text/plain": [
       "array([ 0, 95, 39, 61, 74])"
      ]
     },
     "execution_count": 8,
     "metadata": {},
     "output_type": "execute_result"
    }
   ],
   "source": [
    "# Generate a 1-D array containing 5 random integers from 0 to 100:\n",
    "# return array contain number of size random number from zero to \"number input\"\n",
    "# randint(number of end to return random number, size = number => number of size array)\n",
    "# example return random array from zero to 100(but not included ), and size of array = 5.\n",
    "from numpy import random as rn\n",
    "arr = rn.randint(100, size=5)\n",
    "\n",
    "# print random array\n",
    "arr"
   ]
  },
  {
   "cell_type": "code",
   "execution_count": 11,
   "metadata": {},
   "outputs": [
    {
     "data": {
      "text/plain": [
       "array([[62, 17, 15],\n",
       "       [17, 40, 33],\n",
       "       [48, 12, 73],\n",
       "       [70, 58, 24],\n",
       "       [62, 61,  7]])"
      ]
     },
     "execution_count": 11,
     "metadata": {},
     "output_type": "execute_result"
    }
   ],
   "source": [
    "# can you return random array but 2-D not 1-D => size must atuple taken two number (row,columns)\n",
    "# for example \n",
    "arr = rn.randint(100, size = (5,3))\n",
    "\n",
    "# print array\n",
    "arr"
   ]
  },
  {
   "cell_type": "code",
   "execution_count": 12,
   "metadata": {},
   "outputs": [
    {
     "data": {
      "text/plain": [
       "array([0.29202256, 0.03971283, 0.32609041, 0.19112982, 0.14920086])"
      ]
     },
     "execution_count": 12,
     "metadata": {},
     "output_type": "execute_result"
    }
   ],
   "source": [
    "# random float array 1-d\n",
    "arr = rn.rand(5)\n",
    "# print array\n",
    "arr"
   ]
  },
  {
   "cell_type": "markdown",
   "metadata": {},
   "source": [
    "### - Generate Random Number From Array\n"
   ]
  },
  {
   "cell_type": "code",
   "execution_count": 13,
   "metadata": {},
   "outputs": [
    {
     "data": {
      "text/plain": [
       "1"
      ]
     },
     "execution_count": 13,
     "metadata": {},
     "output_type": "execute_result"
    }
   ],
   "source": [
    "# by using choice function taken a list of number to return random number from the list input\n",
    "x = rn.choice([1,5,6,9,8,7])\n",
    "\n",
    "# print random number\n",
    "x"
   ]
  },
  {
   "cell_type": "code",
   "execution_count": 14,
   "metadata": {},
   "outputs": [
    {
     "data": {
      "text/plain": [
       "array([1, 9, 8, 3])"
      ]
     },
     "execution_count": 14,
     "metadata": {},
     "output_type": "execute_result"
    }
   ],
   "source": [
    "# can return array from the list \n",
    "arr = rn.choice([1,2,3,4,5,6,7,8,9], size = 4)\n",
    "\n",
    "# print arr\n",
    "arr"
   ]
  },
  {
   "cell_type": "code",
   "execution_count": 17,
   "metadata": {},
   "outputs": [
    {
     "name": "stdout",
     "output_type": "stream",
     "text": [
      "[15 91  9 25 45]\n",
      "[ 9 91 25 45 15]\n"
     ]
    }
   ],
   "source": [
    "# Randomly shuffle elements of following array:\n",
    "# Using Suffle(array to shuffle it)\n",
    "# The shuffle() method makes changes to the original array.\n",
    "arr = rn.randint(100, size=5)\n",
    "\n",
    "print(arr)\n",
    "rn.shuffle(arr)\n",
    "\n",
    "print(arr)"
   ]
  },
  {
   "cell_type": "code",
   "execution_count": 19,
   "metadata": {},
   "outputs": [
    {
     "data": {
      "text/plain": [
       "array([1, 2, 5, 4, 3])"
      ]
     },
     "execution_count": 19,
     "metadata": {},
     "output_type": "execute_result"
    }
   ],
   "source": [
    "# Generating Permutation of Arrays\n",
    "# return new arrayrandom from array \n",
    "# changes not makes in original array.\n",
    "# create array \n",
    "arr = np.array([1,2,3,4,5])\n",
    "\n",
    "# create permutation\n",
    "re_arr = rn.permutation(arr)\n",
    "\n",
    "# print re_array\n",
    "re_arr"
   ]
  },
  {
   "cell_type": "markdown",
   "metadata": {},
   "source": [
    "### * Normal Distribution\n"
   ]
  },
  {
   "cell_type": "code",
   "execution_count": null,
   "metadata": {},
   "outputs": [],
   "source": []
  }
 ],
 "metadata": {
  "kernelspec": {
   "display_name": "Python 3",
   "language": "python",
   "name": "python3"
  },
  "language_info": {
   "codemirror_mode": {
    "name": "ipython",
    "version": 3
   },
   "file_extension": ".py",
   "mimetype": "text/x-python",
   "name": "python",
   "nbconvert_exporter": "python",
   "pygments_lexer": "ipython3",
   "version": "3.8.5"
  }
 },
 "nbformat": 4,
 "nbformat_minor": 4
}
